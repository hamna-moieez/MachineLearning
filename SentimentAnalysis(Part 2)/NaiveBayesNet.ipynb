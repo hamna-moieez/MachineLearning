{
 "cells": [
  {
   "cell_type": "markdown",
   "metadata": {},
   "source": [
    "# LAB 09 - NIAVE BAYES' NETWORK"
   ]
  },
  {
   "cell_type": "code",
   "execution_count": 1,
   "metadata": {},
   "outputs": [
    {
     "name": "stdout",
     "output_type": "stream",
     "text": [
      "(8, 11)\n",
      "{'offer': 5, 'secret': 7, 'click': 0, 'link': 3, 'sports': 8, 'play': 6, 'today': 9, 'went': 10, 'event': 2, 'costs': 1, 'money': 4}\n"
     ]
    }
   ],
   "source": [
    "\n",
    "\n",
    "from sklearn.feature_extraction.text import CountVectorizer\n",
    "import numpy as np\n",
    "# Initialize the \"CountVectorizer\" object, which is scikit-learn's\n",
    "# bag of words tool.\n",
    "\n",
    "X = ['offer secret', 'click secret link', 'secret sports link', 'play sports today', 'went play sports', 'secret sports event', 'sports today', 'sports costs money']\n",
    "Y = [1,1,1,0,0,0,0,0] # review labels. 1 indicate spam, 0 non-spam\n",
    "\n",
    "vectorizer = CountVectorizer(analyzer = \"word\", \\\n",
    "tokenizer = None, \\\n",
    "preprocessor = None, \\\n",
    "stop_words = None, \\\n",
    "max_features = 100) \n",
    "# fit_transform() does two functions: First, it fits the model\n",
    "# and learns the vocabulary; second, it transforms our training data\n",
    "# into feature vectors. The input to fit_transform should be a list of \n",
    "# strings.\n",
    "X = vectorizer.fit_transform(X)\n",
    "\n",
    "# Numpy arrays are easy to work with, so convert the result to an \n",
    "# array\n",
    "X = X.toarray()\n",
    "print (X.shape)\n",
    "\n",
    "print (vectorizer.vocabulary_) "
   ]
  },
  {
   "cell_type": "code",
   "execution_count": 2,
   "metadata": {},
   "outputs": [
    {
     "name": "stdout",
     "output_type": "stream",
     "text": [
      "[0 1 0]\n",
      "[[8.26446251e-01 1.73553749e-01]\n",
      " [5.70208051e-02 9.42979195e-01]\n",
      " [9.99997244e-01 2.75623594e-06]]\n"
     ]
    }
   ],
   "source": [
    "from sklearn.naive_bayes import MultinomialNB\n",
    "\n",
    "clf = MultinomialNB(alpha=0.000001) # alpha=0 means no laplace smoothing\n",
    "clf.fit(X, np.array(Y))\n",
    "\n",
    "test_reviews = ['sports', 'secret secret', 'today secret']\n",
    "# bag of word representation\n",
    "tX = vectorizer.transform(test_reviews).toarray()\n",
    "# prediction\n",
    "print(clf.predict(tX))\n",
    "\n",
    "print (clf.predict_proba(tX)) \n"
   ]
  },
  {
   "cell_type": "code",
   "execution_count": 11,
   "metadata": {},
   "outputs": [
    {
     "name": "stderr",
     "output_type": "stream",
     "text": [
      "[nltk_data] Downloading package stopwords to C:\\Users\\Hamna\n",
      "[nltk_data]     Moiz\\AppData\\Roaming\\nltk_data...\n",
      "[nltk_data]   Package stopwords is already up-to-date!\n"
     ]
    },
    {
     "name": "stdout",
     "output_type": "stream",
     "text": [
      "\n",
      "Training data size:  22000\n",
      "Accuracy achieved on training data:  83.47272727272727 %\n",
      "Accuracy achieved on testing data:  52.36666666666666 %\n"
     ]
    }
   ],
   "source": [
    "import sklearn\n",
    "import pandas as pd\n",
    "from bs4 import BeautifulSoup\n",
    "import re\n",
    "import nltk\n",
    "nltk.download(\"stopwords\")\n",
    "from nltk.corpus import stopwords\n",
    "from sklearn.naive_bayes import MultinomialNB\n",
    "\n",
    "train = pd.read_csv('labeledTrainData.tsv', header=0, delimiter='\\t', quoting=3)\n",
    "\n",
    "def review_to_words(raw_review):\n",
    "    #1. Remove HTML\n",
    "    review_bs_obj = BeautifulSoup(raw_review)\n",
    "    review = review_bs_obj.get_text()\n",
    "    #2. Remove non letters\n",
    "    review = re.sub('[^A-Za-z]+',' ', review)\n",
    "    #3. Convert to lowercase and split it into words\n",
    "    review_words = review.lower().split()\n",
    "    #4. Remove stops words\n",
    "    stops = set(stopwords.words('english'))\n",
    "    review_words = [w for w in review_words if not w in stops] \n",
    "    #5. Joint back and return the joined sentence\n",
    "    review_sentence = \" \".join(review_words)\n",
    "    return review_sentence\n",
    "\n",
    "\n",
    "vectorizer = sklearn.feature_extraction.text.CountVectorizer(analyzer='word',\n",
    "                                                            tokenizer=None,\n",
    "                                                            preprocessor=None,\n",
    "                                                            stop_words=None,\n",
    "                                                            max_features=3000)\n",
    "train_size = 22000\n",
    "print(\"\\nTraining data size: \", train_size)\n",
    "X_train = train['review'][:train_size]\n",
    "Y_train = train['sentiment'][:train_size]\n",
    "X_test = train['review'][train_size:]\n",
    "Y_test = train['sentiment'][train_size:]\n",
    "\n",
    "training_X = vectorizer.fit_transform(X_train).toarray()\n",
    "testing_X = vectorizer.fit_transform(X_test).toarray()\n",
    "\n",
    "clf = MultinomialNB(alpha=5)\n",
    "clf = clf.fit(training_X, Y_train)\n",
    "\n",
    "predictions_train = clf.predict(training_X) \n",
    "predictions_test = clf.predict(testing_X)\n",
    "\n",
    "compare_train = predictions_train == Y_train\n",
    "compare_test = predictions_test == Y_test\n",
    "print(\"Accuracy achieved on training data: \", compare_train.mean() * 100, \"%\")\n",
    "print(\"Accuracy achieved on testing data: \", compare_test.mean() * 100, \"%\")"
   ]
  },
  {
   "cell_type": "markdown",
   "metadata": {},
   "source": [
    "| VocSize |Alpha  |Accuracy            |\n",
    "|---------|-------|--------------------|\n",
    "|3000     |0.00001|52.2 %              |\n",
    "|3000     |5      |52.36666666666666 % |\n",
    "|5000     |5      |57.699999999999996 %|\n",
    "|5000     |0.00001|57.199999999999996 %|\n",
    "\n"
   ]
  },
  {
   "cell_type": "code",
   "execution_count": null,
   "metadata": {},
   "outputs": [],
   "source": []
  }
 ],
 "metadata": {
  "kernelspec": {
   "display_name": "Python 3",
   "language": "python",
   "name": "python3"
  },
  "language_info": {
   "codemirror_mode": {
    "name": "ipython",
    "version": 3
   },
   "file_extension": ".py",
   "mimetype": "text/x-python",
   "name": "python",
   "nbconvert_exporter": "python",
   "pygments_lexer": "ipython3",
   "version": "3.7.1"
  }
 },
 "nbformat": 4,
 "nbformat_minor": 2
}
